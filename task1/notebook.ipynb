{
 "cells": [
  {
   "cell_type": "markdown",
   "id": "d0d7ae29",
   "metadata": {},
   "source": [
    "# MNIST Demo (Task 1)"
   ]
  },
  {
   "cell_type": "code",
   "execution_count": null,
   "id": "e2734c9e",
   "metadata": {},
   "outputs": [],
   "source": [
    "\n",
    "import torch, torchvision\n",
    "from torchvision import transforms\n",
    "from torch.utils.data import random_split, DataLoader, TensorDataset\n",
    "import numpy as np\n",
    "\n",
    "transform = transforms.Compose([transforms.ToTensor()])\n",
    "train = torchvision.datasets.MNIST(root='./data', train=True, download=True, transform=transform)\n",
    "test = torchvision.datasets.MNIST(root='./data', train=False, download=True, transform=transform)\n",
    "\n",
    "# Small subset for quick demo\n",
    "train_subset, _ = random_split(train, [10000, len(train)-10000])\n",
    "test_subset, _ = random_split(test, [2000, len(test)-2000])\n",
    "\n",
    "X_train = torch.stack([train_subset[i][0] for i in range(len(train_subset))])\n",
    "y_train = torch.tensor([train_subset[i][1] for i in range(len(train_subset))])\n",
    "X_test = torch.stack([test_subset[i][0] for i in range(len(test_subset))])\n",
    "y_test = torch.tensor([test_subset[i][1] for i in range(len(test_subset))])\n",
    "\n",
    "print(X_train.shape, y_train.shape, X_test.shape, y_test.shape)\n"
   ]
  },
  {
   "cell_type": "code",
   "execution_count": null,
   "id": "87f79ad8",
   "metadata": {},
   "outputs": [],
   "source": [
    "\n",
    "# CNN demo\n",
    "from mnist_classifier import MnistClassifier\n",
    "clf = MnistClassifier('cnn')\n",
    "clf.train(X_train, y_train)\n",
    "preds = clf.predict(X_test)\n",
    "acc = (preds == y_test).float().mean().item()\n",
    "print(\"CNN accuracy:\", acc)\n"
   ]
  },
  {
   "cell_type": "code",
   "execution_count": null,
   "id": "e06ad235",
   "metadata": {},
   "outputs": [],
   "source": [
    "\n",
    "# RandomForest demo (flattened)\n",
    "from mnist_classifier import MnistClassifier\n",
    "import numpy as np\n",
    "X_train_flat = X_train.view(X_train.size(0), -1).numpy()\n",
    "X_test_flat = X_test.view(X_test.size(0), -1).numpy()\n",
    "clf = MnistClassifier('rf')\n",
    "clf.train(X_train_flat, y_train.numpy())\n",
    "preds = clf.predict(X_test_flat)\n",
    "acc = (preds == y_test.numpy()).mean()\n",
    "print(\"RF accuracy:\", float(acc))\n"
   ]
  }
 ],
 "metadata": {},
 "nbformat": 4,
 "nbformat_minor": 5
}
